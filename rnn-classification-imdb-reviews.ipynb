{
 "cells": [
  {
   "cell_type": "markdown",
   "metadata": {},
   "source": [
    "# RNN text classification model for IMDB reviews\n",
    "\n",
    "I love watching movies. It's a way to leave the world you live in and enter another, and for the length of a good movie you are completely captured by the emotions and themes within bringing new perspectives and thoughts. I also love discussing and reviewing movies, so after learning about the IMDB movie reviews dataset avaiable on tensorflow_datasets, I decided to join my hobby with my career skills and create this personal project on a model that can identify whether a review is positive or negative.\n",
    "\n",
    "The format of the RNN model is built as a tf.keras.Sequential, with an encoder -> embedding -> RNNs -> final processing layers as the format (based off tutorials from tensorflow.org)\n"
   ]
  },
  {
   "cell_type": "code",
   "execution_count": 4,
   "metadata": {},
   "outputs": [],
   "source": [
    "import numpy as np\n",
    "import matplotlib.pyplot as plt\n",
    "import tensorflow_datasets as tfds\n",
    "import tensorflow as tf"
   ]
  },
  {
   "cell_type": "code",
   "execution_count": 5,
   "metadata": {},
   "outputs": [],
   "source": [
    "def plot_graphs(history, metric):\n",
    "    # Function for basic plotting\n",
    "    plt.plot(history.history[metric])\n",
    "    plt.plot(history.history['val_'+metric], '')\n",
    "    plt.xlabel(\"Epochs\")\n",
    "    plt.ylabel(metric)\n",
    "    plt.legend([metric, 'val_'+metric])"
   ]
  },
  {
   "cell_type": "code",
   "execution_count": 6,
   "metadata": {},
   "outputs": [
    {
     "data": {
      "text/plain": [
       "(TensorSpec(shape=(), dtype=tf.string, name=None),\n",
       " TensorSpec(shape=(), dtype=tf.int64, name=None))"
      ]
     },
     "execution_count": 6,
     "metadata": {},
     "output_type": "execute_result"
    }
   ],
   "source": [
    "# Download the tfds IMDB dataset\n",
    "dataset, info = tfds.load('imdb_reviews', with_info=True,\n",
    "                          as_supervised=True)\n",
    "train_dataset, test_dataset = dataset['train'], dataset['test']\n",
    "\n",
    "train_dataset.element_spec"
   ]
  },
  {
   "cell_type": "code",
   "execution_count": 8,
   "metadata": {},
   "outputs": [
    {
     "name": "stdout",
     "output_type": "stream",
     "text": [
      "text:  b\"This was an absolutely terrible movie. Don't be lured in by Christopher Walken or Michael Ironside. Both are great actors, but this must simply be their worst role in history. Even their great acting could not redeem this movie's ridiculous storyline. This movie is an early nineties US propaganda piece. The most pathetic scenes were those when the Columbian rebels were making their cases for revolutions. Maria Conchita Alonso appeared phony, and her pseudo-love affair with Walken was nothing but a pathetic emotional plug in a movie that was devoid of any real meaning. I am disappointed that there are movies like this, ruining actor's like Christopher Walken's good name. I could barely sit through it.\"\n",
      "label:  0\n",
      "text:  b'I have been known to fall asleep during films, but this is usually due to a combination of things including, really tired, being warm and comfortable on the sette and having just eaten a lot. However on this occasion I fell asleep because the film was rubbish. The plot development was constant. Constantly slow and boring. Things seemed to happen, but with no explanation of what was causing them or why. I admit, I may have missed part of the film, but i watched the majority of it and everything just seemed to happen of its own accord without any real concern for anything else. I cant recommend this film at all.'\n",
      "label:  0\n",
      "text:  b'Mann photographs the Alberta Rocky Mountains in a superb fashion, and Jimmy Stewart and Walter Brennan give enjoyable performances as they always seem to do. <br /><br />But come on Hollywood - a Mountie telling the people of Dawson City, Yukon to elect themselves a marshal (yes a marshal!) and to enforce the law themselves, then gunfighters battling it out on the streets for control of the town? <br /><br />Nothing even remotely resembling that happened on the Canadian side of the border during the Klondike gold rush. Mr. Mann and company appear to have mistaken Dawson City for Deadwood, the Canadian North for the American Wild West.<br /><br />Canadian viewers be prepared for a Reefer Madness type of enjoyable howl with this ludicrous plot, or, to shake your head in disgust.'\n",
      "label:  0\n",
      "text:  b'This is the kind of film for a snowy Sunday afternoon when the rest of the world can go ahead with its own business as you descend into a big arm-chair and mellow for a couple of hours. Wonderful performances from Cher and Nicolas Cage (as always) gently row the plot along. There are no rapids to cross, no dangerous waters, just a warm and witty paddle through New York life at its best. A family film in every sense and one that deserves the praise it received.'\n",
      "label:  1\n",
      "text:  b'As others have mentioned, all the women that go nude in this film are mostly absolutely gorgeous. The plot very ably shows the hypocrisy of the female libido. When men are around they want to be pursued, but when no \"men\" are around, they become the pursuers of a 14 year old boy. And the boy becomes a man really fast (we should all be so lucky at this age!). He then gets up the courage to pursue his true love.'\n",
      "label:  1\n"
     ]
    }
   ],
   "source": [
    "# See example review\n",
    "for example, label in train_dataset.take(5):\n",
    "  print('text: ', example.numpy())\n",
    "  print('label: ', label.numpy())"
   ]
  },
  {
   "cell_type": "code",
   "execution_count": 9,
   "metadata": {},
   "outputs": [
    {
     "name": "stdout",
     "output_type": "stream",
     "text": [
      "texts:  [b'<br /><br />An old man works as a janitor in a mental hospital to be close to his wife who is a patient there and to try to get her out.<br /><br />This is surely one of the most forgotten masterpieces of the silent era and an oddity in the history of Japanese cinema. Long thought lost, a print was found in the 70s and a music soundtrack added to it, which fits perfectly with the images. It might have been influenced by cabinet of doctor Caligary (director Kinugasa claimed he never saw the German film). However it surpasses it in style and in its more convincing (and chilly) portray of the inner mental state of the inmates in the asylum. To achieve this, the film makes use of every single film technique available at the time: multiple exposures and out of focus subjective point of view, tilted camera angles, fast and slow motion, expressionist lighting and superimpositions among others. It is also a very complicated film to follow, as it has not got intertitles.<br /><br />The film opens with a montage of shots of rain hitting the windows of the hospital, wind shaking trees and of thunder. The unsettling weather metaphors the mental condition of the patients and introduces one of the them: a former dancer. The combination of sounds produced by rain, wind and thunder serves as the music that incites the dancer to get into a frantic, almost hypnotic dance. In another sequence involving the same patient engaged in another frenzied dance, she is being watched by other inmates. Multiple exposures of the dancer represent the patients\\' point of view and their confused \"view\" of the world.<br /><br />These are just two examples from this amazing film trying to represent the patients\\' subconscious and view of the \"sane\" world.<br /><br />In three words A MUST SEE.'\n",
      " b'I\\'m biased towards any movie that paints a luxuriant picture of Italy - in my opinion the most romantic country in the world. Unfortunately the movie was rather short, unusually so for a period piece, and a little sparse on the cinematography aspect. However, the excellent story makes up for it. The four ladies embark on a much-needed relaxing vacation with problems on their minds. Over the course of the movie, they realize their problems and begin fixing them. They believe San Salvatore, the castle they stay in, has an enchanting effect on people. \"It\\'s a tub of love,\" says Lottie Wilkins. You can watch their gradual change from dissatisfied to exuberant as the Italian seaside works its magic on them.<br /><br />All their problems and their solutions are plausible. The actresses were great. The background music seemed very appropriate for an romantic Italian locale. All in all, a 10/10 movie for me.'\n",
      " b\"An old intellectual talks about what he considers art in movies. You get your Hitchcock, your Chaplin, your Bergman and some other stuff prior to the 80ies. To disguise that he has no clue what is going on in cinemas these days, he throws in The Matrix.<br /><br />But it's not only the same lame film-as-art speech all over again. This speech is reduced to outdated psychological platitudes: it-ego-super ego, anal phase, sexual insufficiency. <br /><br />It is garnished with the cheesy effect of having Zizte edited into the movies he is taking about. For someone who is supposed to know much about movies, his own is, cinematographicly speaking: yeiks.<br /><br />To put it in Zizek's own words - I saw 5\\\\-\\\\!7 on the screen, last night, or in the words of a great movie maker:<br /><br />Mr. (Zizek), what you've just said is one of the most insanely idiotic things I have ever heard. At no point in your rambling, incoherent response were you even close to anything that could be considered a rational thought. Everyone in this room is now dumber for having listened to it. I award you (two) points (only), and may God have mercy on your soul.\"]\n",
      "\n",
      "labels:  [1 1 0]\n"
     ]
    }
   ],
   "source": [
    "# Shuffle the data for training and create batches of (text, label) pairs\n",
    "BUFFER_SIZE = 10000\n",
    "BATCH_SIZE = 64\n",
    "\n",
    "train_dataset = train_dataset.shuffle(BUFFER_SIZE).batch(BATCH_SIZE).prefetch(tf.data.AUTOTUNE)\n",
    "test_dataset = test_dataset.batch(BATCH_SIZE).prefetch(tf.data.AUTOTUNE)\n",
    "\n",
    "for example, label in train_dataset.take(1):\n",
    "  print('texts: ', example.numpy()[:3])\n",
    "  print()\n",
    "  print('labels: ', label.numpy()[:3])"
   ]
  },
  {
   "cell_type": "code",
   "execution_count": 10,
   "metadata": {},
   "outputs": [
    {
     "name": "stdout",
     "output_type": "stream",
     "text": [
      "WARNING:tensorflow:From /opt/anaconda3/lib/python3.7/site-packages/tensorflow/python/autograph/pyct/static_analysis/liveness.py:83: Analyzer.lamba_check (from tensorflow.python.autograph.pyct.static_analysis.liveness) is deprecated and will be removed after 2023-09-23.\n",
      "Instructions for updating:\n",
      "Lambda fuctions will be no more assumed to be used in the statement where they are used, or at least in the same block. https://github.com/tensorflow/tensorflow/issues/56089\n"
     ]
    },
    {
     "name": "stderr",
     "output_type": "stream",
     "text": [
      "WARNING:tensorflow:From /opt/anaconda3/lib/python3.7/site-packages/tensorflow/python/autograph/pyct/static_analysis/liveness.py:83: Analyzer.lamba_check (from tensorflow.python.autograph.pyct.static_analysis.liveness) is deprecated and will be removed after 2023-09-23.\n",
      "Instructions for updating:\n",
      "Lambda fuctions will be no more assumed to be used in the statement where they are used, or at least in the same block. https://github.com/tensorflow/tensorflow/issues/56089\n"
     ]
    }
   ],
   "source": [
    "# Using basic/default TextVectorization layer\n",
    "VOCAB_SIZE = 1000\n",
    "encoder = tf.keras.layers.TextVectorization(\n",
    "    max_tokens=VOCAB_SIZE)\n",
    "encoder.adapt(train_dataset.map(lambda text, label: text))"
   ]
  },
  {
   "cell_type": "code",
   "execution_count": 11,
   "metadata": {},
   "outputs": [
    {
     "data": {
      "text/plain": [
       "array(['', '[UNK]', 'the', 'and', 'a', 'of', 'to', 'is', 'in', 'it', 'i',\n",
       "       'this', 'that', 'br', 'was', 'as', 'for', 'with', 'movie', 'but'],\n",
       "      dtype='<U14')"
      ]
     },
     "execution_count": 11,
     "metadata": {},
     "output_type": "execute_result"
    }
   ],
   "source": [
    "vocab = np.array(encoder.get_vocabulary())\n",
    "vocab[:20]"
   ]
  },
  {
   "cell_type": "code",
   "execution_count": 12,
   "metadata": {},
   "outputs": [
    {
     "data": {
      "text/plain": [
       "array([[ 13,  13,  34, ...,   0,   0,   0],\n",
       "       [142,   1, 912, ...,   0,   0,   0],\n",
       "       [ 34, 165,   1, ...,   0,   0,   0]])"
      ]
     },
     "execution_count": 12,
     "metadata": {},
     "output_type": "execute_result"
    }
   ],
   "source": [
    "encoded_example = encoder(example)[:3].numpy()\n",
    "encoded_example"
   ]
  },
  {
   "cell_type": "code",
   "execution_count": 14,
   "metadata": {},
   "outputs": [],
   "source": [
    "# Building the model which consists of:\n",
    "# tf.keras.Sequential -> encoder -> embedding layer -> RNN -> final processing\n",
    "\n",
    "model1 = tf.keras.Sequential([\n",
    "    encoder,\n",
    "    tf.keras.layers.Embedding(\n",
    "        input_dim=len(encoder.get_vocabulary()),\n",
    "        output_dim=64,\n",
    "        # Use masking to handle the variable sequence lengths\n",
    "        mask_zero=True),\n",
    "    tf.keras.layers.Bidirectional(tf.keras.layers.LSTM(64)),\n",
    "    tf.keras.layers.Dense(64, activation='relu'),\n",
    "    tf.keras.layers.Dense(1)\n",
    "])"
   ]
  },
  {
   "cell_type": "code",
   "execution_count": 16,
   "metadata": {},
   "outputs": [],
   "source": [
    "model1.compile(loss=tf.keras.losses.BinaryCrossentropy(from_logits=True),\n",
    "               optimizer=tf.keras.optimizers.Adam(1e-4),\n",
    "               metrics=['accuracy'])"
   ]
  },
  {
   "cell_type": "code",
   "execution_count": 17,
   "metadata": {},
   "outputs": [
    {
     "name": "stdout",
     "output_type": "stream",
     "text": [
      "Epoch 1/10\n",
      "391/391 [==============================] - 510s 1s/step - loss: 0.6445 - accuracy: 0.5759 - val_loss: 0.5148 - val_accuracy: 0.7177\n",
      "Epoch 2/10\n",
      "391/391 [==============================] - 596s 2s/step - loss: 0.4286 - accuracy: 0.8152 - val_loss: 0.3862 - val_accuracy: 0.8203\n",
      "Epoch 3/10\n",
      "391/391 [==============================] - 466s 1s/step - loss: 0.3586 - accuracy: 0.8460 - val_loss: 0.3711 - val_accuracy: 0.8573\n",
      "Epoch 4/10\n",
      "391/391 [==============================] - 362s 925ms/step - loss: 0.3346 - accuracy: 0.8590 - val_loss: 0.3513 - val_accuracy: 0.8625\n",
      "Epoch 5/10\n",
      "391/391 [==============================] - 417s 1s/step - loss: 0.3189 - accuracy: 0.8654 - val_loss: 0.3253 - val_accuracy: 0.8641\n",
      "Epoch 6/10\n",
      "391/391 [==============================] - 503s 1s/step - loss: 0.3121 - accuracy: 0.8675 - val_loss: 0.3217 - val_accuracy: 0.8609\n",
      "Epoch 7/10\n",
      "391/391 [==============================] - 356s 910ms/step - loss: 0.3088 - accuracy: 0.8687 - val_loss: 0.3181 - val_accuracy: 0.8583\n",
      "Epoch 8/10\n",
      "391/391 [==============================] - 344s 879ms/step - loss: 0.3036 - accuracy: 0.8696 - val_loss: 0.3242 - val_accuracy: 0.8609\n",
      "Epoch 9/10\n",
      "391/391 [==============================] - 345s 883ms/step - loss: 0.3027 - accuracy: 0.8706 - val_loss: 0.3164 - val_accuracy: 0.8615\n",
      "Epoch 10/10\n",
      "391/391 [==============================] - 347s 886ms/step - loss: 0.2989 - accuracy: 0.8722 - val_loss: 0.3275 - val_accuracy: 0.8490\n"
     ]
    }
   ],
   "source": [
    "# Train the model\n",
    "history1 = model1.fit(train_dataset, epochs=10,\n",
    "                     validation_data=test_dataset,\n",
    "                     validation_steps=30)"
   ]
  },
  {
   "cell_type": "code",
   "execution_count": 18,
   "metadata": {},
   "outputs": [
    {
     "name": "stdout",
     "output_type": "stream",
     "text": [
      "391/391 [==============================] - 96s 246ms/step - loss: 0.3263 - accuracy: 0.8472\n",
      "Test Loss: 0.3262767195701599\n",
      "Test Accuracy: 0.8471999764442444\n"
     ]
    }
   ],
   "source": [
    "test_loss, test_acc = model1.evaluate(test_dataset)\n",
    "\n",
    "print('Test Loss:', test_loss)\n",
    "print('Test Accuracy:', test_acc)"
   ]
  },
  {
   "cell_type": "code",
   "execution_count": 19,
   "metadata": {},
   "outputs": [
    {
     "data": {
      "text/plain": [
       "(0.0, 0.6617846354842186)"
      ]
     },
     "execution_count": 19,
     "metadata": {},
     "output_type": "execute_result"
    },
    {
     "data": {
      "image/png": "[encoded data removed]",
      "text/plain": [
       "<Figure size 1152x576 with 2 Axes>"
      ]
     },
     "metadata": {
      "needs_background": "light"
     },
     "output_type": "display_data"
    }
   ],
   "source": [
    "# Plottng model accuracy\n",
    "plt.figure(figsize=(16, 8))\n",
    "plt.subplot(1, 2, 1)\n",
    "plot_graphs(history1, 'accuracy')\n",
    "plt.ylim(None, 1)\n",
    "plt.subplot(1, 2, 2)\n",
    "plot_graphs(history1, 'loss')\n",
    "plt.ylim(0, None)"
   ]
  },
  {
   "cell_type": "code",
   "execution_count": 27,
   "metadata": {},
   "outputs": [
    {
     "name": "stdout",
     "output_type": "stream",
     "text": [
      "1/1 [==============================] - 0s 21ms/step\n"
     ]
    },
    {
     "data": {
      "text/plain": [
       "array([[0.8520975]], dtype=float32)"
      ]
     },
     "execution_count": 27,
     "metadata": {},
     "output_type": "execute_result"
    }
   ],
   "source": [
    "# Now trying a prediction on a positive brand new sentence. \n",
    "# If the prediction is >= 0.0, it is positive else it is negative.\n",
    "sample_text = ('The movie was very good. The animation and the graphics '\n",
    "               'were very impressive and unbelievable. I would recommend this movie.')\n",
    "prediction = model1.predict(np.array([sample_text]))\n",
    "prediction"
   ]
  },
  {
   "cell_type": "code",
   "execution_count": 26,
   "metadata": {},
   "outputs": [
    {
     "name": "stdout",
     "output_type": "stream",
     "text": [
      "1/1 [==============================] - 0s 23ms/step\n"
     ]
    },
    {
     "data": {
      "text/plain": [
       "array([[-2.4300206]], dtype=float32)"
      ]
     },
     "execution_count": 26,
     "metadata": {},
     "output_type": "execute_result"
    }
   ],
   "source": [
    "# Now trying a prediction on a negative brand new sentence. \n",
    "# If the prediction is >= 0.0, it is positive else it is negative.\n",
    "sample_text = ('The movie was extremely bad and horrible. The acting was cringe '\n",
    "               'and the script was not good. I would not recommend this movie.')\n",
    "prediction = model1.predict(np.array([sample_text]))\n",
    "prediction"
   ]
  },
  {
   "cell_type": "code",
   "execution_count": 28,
   "metadata": {},
   "outputs": [
    {
     "name": "stdout",
     "output_type": "stream",
     "text": [
      "1/1 [==============================] - 0s 22ms/step\n"
     ]
    },
    {
     "data": {
      "text/plain": [
       "array([[-0.24543403]], dtype=float32)"
      ]
     },
     "execution_count": 28,
     "metadata": {},
     "output_type": "execute_result"
    }
   ],
   "source": [
    "# Now trying a prediction on a trickier sentence that contains both positive and negative feedback.\n",
    "# If the prediction is >= 0.0, it is positive else it is negative.\n",
    "sample_text = ('While the movie was very good in its plot, the acting and '\n",
    "               'directing was subpar. I would only recommend this movie to people for the plot.')\n",
    "prediction = model1.predict(np.array([sample_text]))\n",
    "prediction"
   ]
  },
  {
   "cell_type": "markdown",
   "metadata": {},
   "source": [
    "## Multiple RNN layers\n",
    "\n",
    "From reading a tutorial on tensorflow.org, I learned that RNN models can also have multiple RNN layers, controlled by the return_sequences arguement. The below trains a new model that has multiple RNN layers, which should lead to higher accuracy in the intensity of positive/negative reviews."
   ]
  },
  {
   "cell_type": "code",
   "execution_count": 29,
   "metadata": {},
   "outputs": [],
   "source": [
    "model2 = tf.keras.Sequential([\n",
    "    encoder,\n",
    "    tf.keras.layers.Embedding(len(encoder.get_vocabulary()), 64, mask_zero=True),\n",
    "    tf.keras.layers.Bidirectional(tf.keras.layers.LSTM(64,  return_sequences=True)),\n",
    "    tf.keras.layers.Bidirectional(tf.keras.layers.LSTM(32)),\n",
    "    tf.keras.layers.Dense(64, activation='relu'),\n",
    "    tf.keras.layers.Dropout(0.5),\n",
    "    tf.keras.layers.Dense(1)\n",
    "])"
   ]
  },
  {
   "cell_type": "code",
   "execution_count": 30,
   "metadata": {},
   "outputs": [],
   "source": [
    "model2.compile(loss=tf.keras.losses.BinaryCrossentropy(from_logits=True),\n",
    "               optimizer=tf.keras.optimizers.Adam(1e-4),\n",
    "               metrics=['accuracy'])"
   ]
  },
  {
   "cell_type": "code",
   "execution_count": 31,
   "metadata": {},
   "outputs": [
    {
     "name": "stdout",
     "output_type": "stream",
     "text": [
      "Epoch 1/10\n",
      "391/391 [==============================] - 686s 2s/step - loss: 0.6357 - accuracy: 0.5776 - val_loss: 0.4523 - val_accuracy: 0.8005\n",
      "Epoch 2/10\n",
      "391/391 [==============================] - 647s 2s/step - loss: 0.3899 - accuracy: 0.8272 - val_loss: 0.3553 - val_accuracy: 0.8396\n",
      "Epoch 3/10\n",
      "391/391 [==============================] - 648s 2s/step - loss: 0.3398 - accuracy: 0.8527 - val_loss: 0.3694 - val_accuracy: 0.8562\n",
      "Epoch 4/10\n",
      "391/391 [==============================] - 636s 2s/step - loss: 0.3247 - accuracy: 0.8613 - val_loss: 0.3341 - val_accuracy: 0.8396\n",
      "Epoch 5/10\n",
      "391/391 [==============================] - 642s 2s/step - loss: 0.3115 - accuracy: 0.8648 - val_loss: 0.3301 - val_accuracy: 0.8396\n",
      "Epoch 6/10\n",
      "391/391 [==============================] - 752s 2s/step - loss: 0.3106 - accuracy: 0.8638 - val_loss: 0.3481 - val_accuracy: 0.8359\n",
      "Epoch 7/10\n",
      "391/391 [==============================] - 890s 2s/step - loss: 0.3002 - accuracy: 0.8693 - val_loss: 0.3204 - val_accuracy: 0.8526\n",
      "Epoch 8/10\n",
      "391/391 [==============================] - 660s 2s/step - loss: 0.3010 - accuracy: 0.8721 - val_loss: 0.3190 - val_accuracy: 0.8521\n",
      "Epoch 9/10\n",
      "391/391 [==============================] - 642s 2s/step - loss: 0.2957 - accuracy: 0.8714 - val_loss: 0.3158 - val_accuracy: 0.8552\n",
      "Epoch 10/10\n",
      "391/391 [==============================] - 640s 2s/step - loss: 0.2947 - accuracy: 0.8721 - val_loss: 0.3220 - val_accuracy: 0.8432\n"
     ]
    }
   ],
   "source": [
    "history2 = model2.fit(train_dataset, epochs=10,\n",
    "                     validation_data=test_dataset,\n",
    "                     validation_steps=30)"
   ]
  },
  {
   "cell_type": "code",
   "execution_count": 32,
   "metadata": {},
   "outputs": [
    {
     "name": "stdout",
     "output_type": "stream",
     "text": [
      "391/391 [==============================] - 194s 497ms/step - loss: 0.3228 - accuracy: 0.8420\n",
      "Test Loss: 0.32277968525886536\n",
      "Test Accuracy: 0.8420400023460388\n"
     ]
    }
   ],
   "source": [
    "test_loss, test_acc = model2.evaluate(test_dataset)\n",
    "\n",
    "print('Test Loss:', test_loss)\n",
    "print('Test Accuracy:', test_acc)"
   ]
  },
  {
   "cell_type": "code",
   "execution_count": 34,
   "metadata": {},
   "outputs": [
    {
     "data": {
      "image/png": "[encoded data removed]",
      "text/plain": [
       "<Figure size 1152x432 with 2 Axes>"
      ]
     },
     "metadata": {
      "needs_background": "light"
     },
     "output_type": "display_data"
    }
   ],
   "source": [
    "plt.figure(figsize=(16, 6))\n",
    "plt.subplot(1, 2, 1)\n",
    "plot_graphs(history2, 'accuracy')\n",
    "plt.subplot(1, 2, 2)\n",
    "plot_graphs(history2, 'loss')"
   ]
  },
  {
   "cell_type": "code",
   "execution_count": 35,
   "metadata": {},
   "outputs": [
    {
     "name": "stdout",
     "output_type": "stream",
     "text": [
      "1/1 [==============================] - 5s 5s/step\n"
     ]
    },
    {
     "data": {
      "text/plain": [
       "array([[0.68116033]], dtype=float32)"
      ]
     },
     "execution_count": 35,
     "metadata": {},
     "output_type": "execute_result"
    }
   ],
   "source": [
    "# Now trying a prediction on a positive brand new sentence. \n",
    "# If the prediction is >= 0.0, it is positive else it is negative.\n",
    "sample_text = ('The movie was very good. The animation and the graphics '\n",
    "               'were very impressive and unbelievable. I would recommend this movie.')\n",
    "prediction = model2.predict(np.array([sample_text]))\n",
    "prediction"
   ]
  },
  {
   "cell_type": "code",
   "execution_count": 36,
   "metadata": {},
   "outputs": [
    {
     "name": "stdout",
     "output_type": "stream",
     "text": [
      "1/1 [==============================] - 0s 24ms/step\n"
     ]
    },
    {
     "data": {
      "text/plain": [
       "array([[-3.2273037]], dtype=float32)"
      ]
     },
     "execution_count": 36,
     "metadata": {},
     "output_type": "execute_result"
    }
   ],
   "source": [
    "# Now trying a prediction on a negative brand new sentence. \n",
    "# If the prediction is >= 0.0, it is positive else it is negative.\n",
    "sample_text = ('The movie was extremely bad and horrible. The acting was cringe '\n",
    "               'and the script was not good. I would not recommend this movie.')\n",
    "prediction = model2.predict(np.array([sample_text]))\n",
    "prediction"
   ]
  },
  {
   "cell_type": "code",
   "execution_count": 37,
   "metadata": {},
   "outputs": [
    {
     "name": "stdout",
     "output_type": "stream",
     "text": [
      "1/1 [==============================] - 0s 23ms/step\n"
     ]
    },
    {
     "data": {
      "text/plain": [
       "array([[-0.7708351]], dtype=float32)"
      ]
     },
     "execution_count": 37,
     "metadata": {},
     "output_type": "execute_result"
    }
   ],
   "source": [
    "# Now trying a prediction on a trickier sentence that contains both positive and negative feedback.\n",
    "# If the prediction is >= 0.0, it is positive else it is negative.\n",
    "sample_text = ('While the movie was very good in its plot, the acting and '\n",
    "               'directing was subpar. I would only recommend this movie to people for the plot.')\n",
    "prediction = model2.predict(np.array([sample_text]))\n",
    "prediction"
   ]
  },
  {
   "cell_type": "markdown",
   "metadata": {},
   "source": [
    "## Conclusion\n",
    "\n",
    "Not much data exploration/pre-processing/feature engineering was done on the dataset as it was provided by tensorflow_datasets, and assumed to be ready for training.\n",
    "\n",
    "Both the simple RNN model and the multi-layered RNN model performed accurately for the simple test cases provided. Comparing between the two, the intensity of the positive/negative prediction changed between the two models.\n",
    "\n",
    "For example, for the sample text \n",
    "\n",
    "\"While the movie was very good in its plot, the acting and directing was subpar. I would only recommend this movie to people for the plot.\"\n",
    "\n",
    "the first model predicted -0.25 (ie slightly negative review, quite neutral), while the multi-layered model predicted -0.78 (ie more negative of a review). This makes sense to me, and is a simple occurrence that gives me confidence that the second model is more accurate and able to pick-up more nuances in the reviews.\n",
    "\n",
    "If I were to guess what the above review is trying to portray, I would agree with the 2nd model more as the reviewer is only reccommending the movie to a very small audience, so it is generally more negative than neutral."
   ]
  },
  {
   "cell_type": "code",
   "execution_count": null,
   "metadata": {},
   "outputs": [],
   "source": []
  }
 ],
 "metadata": {
  "kernelspec": {
   "display_name": "Python 3",
   "language": "python",
   "name": "python3"
  },
  "language_info": {
   "codemirror_mode": {
    "name": "ipython",
    "version": 3
   },
   "file_extension": ".py",
   "mimetype": "text/x-python",
   "name": "python",
   "nbconvert_exporter": "python",
   "pygments_lexer": "ipython3",
   "version": "3.7.6"
  }
 },
 "nbformat": 4,
 "nbformat_minor": 4
}
